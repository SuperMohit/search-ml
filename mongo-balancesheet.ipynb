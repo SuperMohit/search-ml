{
 "cells": [
  {
   "cell_type": "code",
   "execution_count": null,
   "metadata": {},
   "outputs": [],
   "source": [
    "!pip3 install unstructured unstructured-inference langchain numpy tesseract cohere chromadb\n"
   ]
  },
  {
   "cell_type": "code",
   "execution_count": 2,
   "metadata": {},
   "outputs": [],
   "source": [
    "from unstructured.partition.pdf import partition_pdf\n",
    "from unstructured.staging.base import elements_to_json\n",
    "filename = \"/Users/mohittalniya/semantic-search/mongo-search/mongodb_balancesheet.pdf\" \n",
    "# Define parameters for Unstructured's library\n",
    "strategy = \"hi_res\" # Strategy for analyzing PDFs and extracting table structure\n",
    "model_name = \"yolox\" # Best model for table extraction. Other options are detectron2_onnx and chipper depending on file layout\n",
    "\n",
    "# Extracts the elements from the PDF\n",
    "elements = partition_pdf(\n",
    "    filename=filename, \n",
    "    strategy=strategy, \n",
    "    infer_table_structure=True, \n",
    "    model_name=model_name\n",
    ")\n",
    "\n",
    "# Store results in json\n",
    "elements_to_json(elements, filename=f\"{filename}.json\")"
   ]
  },
  {
   "cell_type": "code",
   "execution_count": null,
   "metadata": {},
   "outputs": [],
   "source": [
    "for elem in elements[:10]:\n",
    "    print(elem)"
   ]
  },
  {
   "cell_type": "code",
   "execution_count": 5,
   "metadata": {},
   "outputs": [],
   "source": [
    "import json\n",
    "text_file = \"/Users/mohittalniya/semantic-search/mongo-search/mongodb_balancesheet.pdf.txt\"\n",
    "def process_json_file(input_filename):\n",
    "    # Read the JSON file\n",
    "    with open(input_filename, 'r') as file:\n",
    "        data = json.load(file)\n",
    "\n",
    "    # Iterate over the JSON data and extract required table elements\n",
    "    extracted_elements = []\n",
    "    for entry in data:\n",
    "        if entry[\"type\"] == \"Table\":\n",
    "            extracted_elements.append(entry[\"metadata\"][\"text_as_html\"])\n",
    "        # else:\n",
    "        #     extracted_elements.append(entry[\"text\"])  \n",
    "\n",
    "    print(extracted_elements)           \n",
    "    \n",
    "    # Write the extracted elements to the output file\n",
    "    with open(text_file, 'w') as output_file:\n",
    "        for element in extracted_elements:\n",
    "            output_file.write(element + \"\\n\\n\")"
   ]
  },
  {
   "cell_type": "code",
   "execution_count": null,
   "metadata": {},
   "outputs": [],
   "source": [
    "process_json_file(f\"{filename}.json\")"
   ]
  },
  {
   "cell_type": "code",
   "execution_count": 7,
   "metadata": {},
   "outputs": [
    {
     "name": "stdout",
     "output_type": "stream",
     "text": [
      "/Users/mohittalniya/semantic-search/mongo-search/mongodb_balancesheet.pdf.txt\n"
     ]
    }
   ],
   "source": [
    "from langchain.document_loaders import TextLoader\n",
    "print(text_file)\n",
    "loader = TextLoader(text_file)\n",
    "documents = loader.load()"
   ]
  },
  {
   "cell_type": "code",
   "execution_count": 8,
   "metadata": {},
   "outputs": [],
   "source": [
    "from langchain.text_splitter import CharacterTextSplitter\n",
    "\n",
    "# split it into chunks\n",
    "text_splitter = CharacterTextSplitter(chunk_size=4500, chunk_overlap=200)\n",
    "docs = text_splitter.split_documents(documents)"
   ]
  },
  {
   "cell_type": "code",
   "execution_count": 9,
   "metadata": {},
   "outputs": [],
   "source": [
    "import os\n",
    "from langchain.embeddings import CohereEmbeddings\n",
    "COHERE_API_KEY = '<>';\n",
    "embeddings = CohereEmbeddings(\n",
    "    model=\"embed-english-light-v2.0\", cohere_api_key=COHERE_API_KEY\n",
    ")"
   ]
  },
  {
   "cell_type": "code",
   "execution_count": 10,
   "metadata": {},
   "outputs": [],
   "source": [
    "from langchain.vectorstores import Chroma\n",
    "\n",
    "db = Chroma.from_documents(docs, embeddings)"
   ]
  },
  {
   "cell_type": "code",
   "execution_count": 19,
   "metadata": {},
   "outputs": [],
   "source": [
    "from langchain.llms import Cohere\n",
    "from langchain.chains import RetrievalQA\n",
    "\n",
    "llm = Cohere(cohere_api_key=COHERE_API_KEY, truncate=\"START\", temperature=0)\n",
    "qa_chain = RetrievalQA.from_chain_type(llm, retriever=db.as_retriever())\n",
    "\n",
    "questions = [\n",
    "    \"What are the current assets of MongoDB\",\n",
    "    \"What is the total cash flow from investing activities of MongoDB?\",\n",
    "    \"How many total Atlas Customers MongoDB has in July 2023?\",\n",
    "    \"What was the gross margin in July 2023?\"\n",
    "]\n",
    "\n",
    "# Store responses in output_list\n",
    "output_list = []\n",
    "\n",
    "for query in questions:\n",
    "    response = qa_chain({\"query\": query})\n",
    "    output_list.append(response)"
   ]
  },
  {
   "cell_type": "code",
   "execution_count": 20,
   "metadata": {},
   "outputs": [
    {
     "name": "stdout",
     "output_type": "stream",
     "text": [
      "[   {   'query': 'What are the current assets of MongoDB',\n",
      "        'result': ' As of July 31, 2023, MongoDB had total current assets of '\n",
      "                  '$2,648,234. This includes cash and cash equivalents of '\n",
      "                  '$722,190, accounts receivable of $61,206, prepaid expenses '\n",
      "                  'and other current assets of $124, and other current assets '\n",
      "                  'of $2,548,114.'},\n",
      "    {   'query': 'What is the total cash flow from investing activities of '\n",
      "                 'MongoDB?',\n",
      "        'result': ' The total cash flow from investing activities of MongoDB '\n",
      "                  'is $110,195.'},\n",
      "    {   'query': 'How many total Atlas Customers MongoDB has in July 2023?',\n",
      "        'result': ' MongoDB has 29,000+ Atlas Customers as of July 2023.'},\n",
      "    {   'query': 'What was the gross margin in July 2023?',\n",
      "        'result': ' The gross margin in July 2023 was 74%.'}]\n"
     ]
    }
   ],
   "source": [
    "import pprint\n",
    "\n",
    "# Use pprint to pretty print the output list\n",
    "pp = pprint.PrettyPrinter(indent=4)\n",
    "pp.pprint(output_list)"
   ]
  }
 ],
 "metadata": {
  "interpreter": {
   "hash": "b0fa6594d8f4cbf19f97940f81e996739fb7646882a419484c72d19e05852a7e"
  },
  "kernelspec": {
   "display_name": "Python 3.11.4 64-bit",
   "language": "python",
   "name": "python3"
  },
  "language_info": {
   "codemirror_mode": {
    "name": "ipython",
    "version": 3
   },
   "file_extension": ".py",
   "mimetype": "text/x-python",
   "name": "python",
   "nbconvert_exporter": "python",
   "pygments_lexer": "ipython3",
   "version": "3.11.5"
  },
  "orig_nbformat": 4
 },
 "nbformat": 4,
 "nbformat_minor": 2
}
